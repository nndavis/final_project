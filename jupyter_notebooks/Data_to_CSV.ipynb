{
 "cells": [
  {
   "cell_type": "code",
   "execution_count": null,
   "id": "434de2b6",
   "metadata": {},
   "outputs": [],
   "source": [
    "# Import our dependencies\n",
    "from sklearn.model_selection import train_test_split\n",
    "from sklearn.preprocessing import StandardScaler,OneHotEncoder\n",
    "import pandas as pd\n",
    "import tensorflow as tf\n",
    "\n",
    "#  Import and read the charity_data.csv.\n",
    "import pandas as pd \n",
    "reviews_df = pd.read_csv(\"glassdoor_reviews.csv\")\n",
    "reviews_df.head()"
   ]
  },
  {
   "cell_type": "code",
   "execution_count": null,
   "id": "dc4b218b",
   "metadata": {},
   "outputs": [],
   "source": [
    "reviews_df = reviews_df[['firm', 'job_title', 'location', 'overall_rating', 'work_life_balance', 'culture_values', 'diversity_inclusion', \n",
    "'career_opp', 'comp_benefits']]"
   ]
  },
  {
   "cell_type": "code",
   "execution_count": null,
   "id": "209ebc2a",
   "metadata": {},
   "outputs": [],
   "source": [
    "reviews_df.head()"
   ]
  },
  {
   "cell_type": "code",
   "execution_count": null,
   "id": "9ce39e5f",
   "metadata": {},
   "outputs": [],
   "source": [
    "reviews_df_clean = reviews_df.dropna()\n",
    "reviews_df_clean.count()"
   ]
  },
  {
   "cell_type": "code",
   "execution_count": null,
   "id": "5c08591a",
   "metadata": {},
   "outputs": [],
   "source": [
    "reviews_df_clean[\"firm\"].str.lower()"
   ]
  },
  {
   "cell_type": "code",
   "execution_count": null,
   "id": "9ef7ecda",
   "metadata": {},
   "outputs": [],
   "source": [
    "reviews_df_clean[\"name\"] = reviews_df_clean[\"firm\"].str.lower()"
   ]
  },
  {
   "cell_type": "code",
   "execution_count": null,
   "id": "ba3f4ef6",
   "metadata": {},
   "outputs": [],
   "source": [
    "reviews_df_clean = reviews_df_clean[['name', 'job_title', 'location', 'overall_rating', 'work_life_balance', 'culture_values', 'diversity_inclusion', \n",
    "'career_opp', 'comp_benefits']]"
   ]
  },
  {
   "cell_type": "code",
   "execution_count": null,
   "id": "3a7f0f19",
   "metadata": {},
   "outputs": [],
   "source": [
    "reviews_df_clean.head()"
   ]
  },
  {
   "cell_type": "code",
   "execution_count": null,
   "id": "b07f5129",
   "metadata": {},
   "outputs": [],
   "source": [
    "companies_df = pd.read_csv(\"companies_sorted.csv\")\n",
    "companies_df.head()"
   ]
  },
  {
   "cell_type": "code",
   "execution_count": null,
   "id": "e8d250cd",
   "metadata": {},
   "outputs": [],
   "source": [
    "companies_df = companies_df[['name', 'industry', 'total employee estimate']]\n",
    "companies_df.head(10)"
   ]
  },
  {
   "cell_type": "code",
   "execution_count": null,
   "id": "583de352",
   "metadata": {},
   "outputs": [],
   "source": [
    "companies_df_clean = companies_df.dropna()\n",
    "companies_df_clean.count()"
   ]
  }
 ],
 "metadata": {
  "kernelspec": {
   "display_name": "mlenv",
   "language": "python",
   "name": "mlenv"
  },
  "language_info": {
   "codemirror_mode": {
    "name": "ipython",
    "version": 3
   },
   "file_extension": ".py",
   "mimetype": "text/x-python",
   "name": "python",
   "nbconvert_exporter": "python",
   "pygments_lexer": "ipython3",
   "version": "3.7.13"
  }
 },
 "nbformat": 4,
 "nbformat_minor": 5
}
