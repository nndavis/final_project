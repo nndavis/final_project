{
 "cells": [
  {
   "cell_type": "code",
   "execution_count": null,
   "id": "b1429c7e",
   "metadata": {},
   "outputs": [],
   "source": [
    "# Import our dependencies\n",
    "from sklearn.model_selection import train_test_split\n",
    "from sklearn.preprocessing import StandardScaler,OneHotEncoder\n",
    "import pandas as pd\n",
    "import tensorflow as tf\n",
    "\n",
    "#  Import and read the charity_data.csv.\n",
    "import pandas as pd \n",
    "reviews_df = pd.read_csv(\"glassdoor_reviews.csv\")\n",
    "reviews_df.head()"
   ]
  },
  {
   "cell_type": "code",
   "execution_count": null,
   "id": "971f2de7",
   "metadata": {},
   "outputs": [],
   "source": [
    "# Create a reviews dataframe that includes chosen columns (dropping columns that are not necessary)\n",
    "reviews_df = reviews_df[['firm', 'job_title', 'location', 'overall_rating', 'work_life_balance', 'culture_values', 'diversity_inclusion', \n",
    "'career_opp', 'comp_benefits']]"
   ]
  },
  {
   "cell_type": "code",
   "execution_count": null,
   "id": "b6b170dd",
   "metadata": {},
   "outputs": [],
   "source": [
    "# Check Data\n",
    "reviews_df.head()"
   ]
  },
  {
   "cell_type": "code",
   "execution_count": null,
   "id": "f2c87c45",
   "metadata": {},
   "outputs": [],
   "source": [
    "# Drop na columns from the reviews_df\n",
    "reviews_df_clean = reviews_df.dropna()\n",
    "reviews_df_clean.count()"
   ]
  },
  {
   "cell_type": "code",
   "execution_count": null,
   "id": "dfd56b51",
   "metadata": {},
   "outputs": [],
   "source": [
    "# Convert all firms to lowercase string\n",
    "reviews_df_clean[\"firm\"].str.lower()"
   ]
  },
  {
   "cell_type": "code",
   "execution_count": null,
   "id": "e08ff82c",
   "metadata": {},
   "outputs": [],
   "source": [
    "# Create a new column called name that will replace firm (this is to match our companies dataset)\n",
    "reviews_df_clean[\"name\"] = reviews_df_clean[\"firm\"].str.lower()"
   ]
  },
  {
   "cell_type": "code",
   "execution_count": null,
   "id": "a0535b1f",
   "metadata": {},
   "outputs": [],
   "source": [
    "# Create a new dataframe that excludes \"firm\"\n",
    "reviews_df_clean = reviews_df_clean[['name', 'job_title', 'location', 'overall_rating', 'work_life_balance', 'culture_values', 'diversity_inclusion', \n",
    "'career_opp', 'comp_benefits']]"
   ]
  },
  {
   "cell_type": "code",
   "execution_count": null,
   "id": "1625738a",
   "metadata": {},
   "outputs": [],
   "source": [
    "# Check Data\n",
    "reviews_df_clean.head()"
   ]
  },
  {
   "cell_type": "code",
   "execution_count": null,
   "id": "2fcd5235",
   "metadata": {},
   "outputs": [],
   "source": [
    "# Create companies dataframe from csv\n",
    "companies_df = pd.read_csv(\"companies_sorted.csv\")\n",
    "companies_df.head()"
   ]
  },
  {
   "cell_type": "code",
   "execution_count": null,
   "id": "44865600",
   "metadata": {},
   "outputs": [],
   "source": [
    "# Have companies dataframe use the chosen columns (dropping columns that are not necessary)\n",
    "companies_df = companies_df[['name', 'industry', 'total employee estimate']]\n",
    "companies_df.head(10)"
   ]
  },
  {
   "cell_type": "code",
   "execution_count": null,
   "id": "20c21bcf",
   "metadata": {},
   "outputs": [],
   "source": [
    "# Drop na columns from the companies_df\n",
    "companies_df_clean = companies_df.dropna()\n",
    "companies_df_clean.count()"
   ]
  },
  {
   "cell_type": "code",
   "execution_count": null,
   "id": "0b2b88f7",
   "metadata": {},
   "outputs": [],
   "source": [
    "# Merge our dataframes on name\n",
    "df_merge = pd.merge(reviews_df_clean, companies_df_clean, on=\"name\", how=\"inner\")"
   ]
  },
  {
   "cell_type": "code",
   "execution_count": null,
   "id": "c7e98ab7",
   "metadata": {},
   "outputs": [],
   "source": [
    "# Check data\n",
    "df_merge"
   ]
  },
  {
   "cell_type": "code",
   "execution_count": null,
   "id": "d81ae02a",
   "metadata": {},
   "outputs": [],
   "source": [
    "# Check data\n",
    "df_merge.count()"
   ]
  },
  {
   "cell_type": "code",
   "execution_count": null,
   "id": "b784836d",
   "metadata": {},
   "outputs": [],
   "source": [
    "# Remove na / check data\n",
    "df_merge.dropna()"
   ]
  },
  {
   "cell_type": "code",
   "execution_count": null,
   "id": "4e2e4423",
   "metadata": {},
   "outputs": [],
   "source": [
    "# Check data\n",
    "df_merge.count()"
   ]
  },
  {
   "cell_type": "code",
   "execution_count": null,
   "id": "5bad934f",
   "metadata": {},
   "outputs": [],
   "source": [
    "# Check data\n",
    "df_merge.head(1000)"
   ]
  },
  {
   "cell_type": "code",
   "execution_count": null,
   "id": "fb9d9b1b",
   "metadata": {},
   "outputs": [],
   "source": [
    "# Create a new ID column that gives each unique name an ID\n",
    "df_merge['id'] = df_merge.groupby(['name']).ngroup()"
   ]
  },
  {
   "cell_type": "code",
   "execution_count": null,
   "id": "67e56bb2",
   "metadata": {},
   "outputs": [],
   "source": [
    "# Check data\n",
    "df_merge['id'].nunique()"
   ]
  },
  {
   "cell_type": "code",
   "execution_count": null,
   "id": "e90b4b45",
   "metadata": {},
   "outputs": [],
   "source": [
    "# Create new dataframe\n",
    "reviews_sql_df = df_merge[['name', 'job_title', 'location', 'overall_rating', 'work_life_balance', 'culture_values', 'diversity_inclusion', \n",
    "'career_opp', 'comp_benefits', 'id']]\n",
    "reviews_sql_df.head()"
   ]
  },
  {
   "cell_type": "code",
   "execution_count": null,
   "id": "0ea6f992",
   "metadata": {},
   "outputs": [],
   "source": [
    "# Check Data\n",
    "reviews_sql_df.count()"
   ]
  },
  {
   "cell_type": "code",
   "execution_count": null,
   "id": "b677abbd",
   "metadata": {},
   "outputs": [],
   "source": [
    "# Create new dataframe\n",
    "companies_sql_df = df_merge[['name', 'industry', 'total employee estimate', 'id']]\n",
    "companies_sql_df.count()"
   ]
  },
  {
   "cell_type": "code",
   "execution_count": null,
   "id": "fe2608dd",
   "metadata": {},
   "outputs": [],
   "source": [
    "# Export Dataframes as CSVs\n",
    "# reviews_sql_df.to_csv(\"reviews2sqlID.csv\")\n",
    "# companies_sql_df.to_csv(\"companies2sqlID.csv\")"
   ]
  }
 ],
 "metadata": {
  "kernelspec": {
   "display_name": "mlenv",
   "language": "python",
   "name": "mlenv"
  },
  "language_info": {
   "codemirror_mode": {
    "name": "ipython",
    "version": 3
   },
   "file_extension": ".py",
   "mimetype": "text/x-python",
   "name": "python",
   "nbconvert_exporter": "python",
   "pygments_lexer": "ipython3",
   "version": "3.7.13"
  }
 },
 "nbformat": 4,
 "nbformat_minor": 5
}
