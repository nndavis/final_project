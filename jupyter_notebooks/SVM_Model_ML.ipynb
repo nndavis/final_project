{
 "cells": [
  {
   "cell_type": "markdown",
   "id": "d569072c",
   "metadata": {},
   "source": [
    "# Import dependencies"
   ]
  },
  {
   "cell_type": "code",
   "execution_count": 33,
   "id": "15bf47a5",
   "metadata": {},
   "outputs": [],
   "source": [
    "from pathlib import Path\n",
    "import numpy as np\n",
    "import pandas as pd\n",
    "from sklearn.model_selection import train_test_split\n",
    "from sklearn.svm import SVC\n",
    "from sklearn.metrics import accuracy_score\n",
    "from sklearn.metrics import confusion_matrix\n",
    "from sklearn.metrics import classification_report"
   ]
  },
  {
   "cell_type": "markdown",
   "id": "28d37214",
   "metadata": {},
   "source": [
    "# Find the data file"
   ]
  },
  {
   "cell_type": "code",
   "execution_count": 26,
   "id": "a9690618",
   "metadata": {},
   "outputs": [
    {
     "data": {
      "text/html": [
       "<div>\n",
       "<style scoped>\n",
       "    .dataframe tbody tr th:only-of-type {\n",
       "        vertical-align: middle;\n",
       "    }\n",
       "\n",
       "    .dataframe tbody tr th {\n",
       "        vertical-align: top;\n",
       "    }\n",
       "\n",
       "    .dataframe thead th {\n",
       "        text-align: right;\n",
       "    }\n",
       "</style>\n",
       "<table border=\"1\" class=\"dataframe\">\n",
       "  <thead>\n",
       "    <tr style=\"text-align: right;\">\n",
       "      <th></th>\n",
       "      <th>Unnamed: 0</th>\n",
       "      <th>name</th>\n",
       "      <th>job_title</th>\n",
       "      <th>industry</th>\n",
       "      <th>location</th>\n",
       "      <th>overall_rating</th>\n",
       "      <th>work_life_balance</th>\n",
       "      <th>culture_values</th>\n",
       "      <th>diversity_inclusion</th>\n",
       "      <th>career_opp</th>\n",
       "      <th>comp_benefits</th>\n",
       "      <th>total employee estimate</th>\n",
       "    </tr>\n",
       "  </thead>\n",
       "  <tbody>\n",
       "    <tr>\n",
       "      <th>0</th>\n",
       "      <td>1182</td>\n",
       "      <td>aldi</td>\n",
       "      <td>Customer Service Representative</td>\n",
       "      <td>retail</td>\n",
       "      <td>Bristol, England, England</td>\n",
       "      <td>3</td>\n",
       "      <td>1.0</td>\n",
       "      <td>2.0</td>\n",
       "      <td>2.0</td>\n",
       "      <td>2.0</td>\n",
       "      <td>1.0</td>\n",
       "      <td>268</td>\n",
       "    </tr>\n",
       "    <tr>\n",
       "      <th>1</th>\n",
       "      <td>1183</td>\n",
       "      <td>aldi</td>\n",
       "      <td>Customer Service Representative</td>\n",
       "      <td>printing</td>\n",
       "      <td>Bristol, England, England</td>\n",
       "      <td>3</td>\n",
       "      <td>1.0</td>\n",
       "      <td>2.0</td>\n",
       "      <td>2.0</td>\n",
       "      <td>2.0</td>\n",
       "      <td>1.0</td>\n",
       "      <td>7</td>\n",
       "    </tr>\n",
       "    <tr>\n",
       "      <th>2</th>\n",
       "      <td>1184</td>\n",
       "      <td>aldi</td>\n",
       "      <td>Sales Assistant</td>\n",
       "      <td>retail</td>\n",
       "      <td>York, England, England</td>\n",
       "      <td>4</td>\n",
       "      <td>5.0</td>\n",
       "      <td>4.0</td>\n",
       "      <td>4.0</td>\n",
       "      <td>5.0</td>\n",
       "      <td>4.0</td>\n",
       "      <td>268</td>\n",
       "    </tr>\n",
       "    <tr>\n",
       "      <th>3</th>\n",
       "      <td>1185</td>\n",
       "      <td>aldi</td>\n",
       "      <td>Sales Assistant</td>\n",
       "      <td>printing</td>\n",
       "      <td>York, England, England</td>\n",
       "      <td>4</td>\n",
       "      <td>5.0</td>\n",
       "      <td>4.0</td>\n",
       "      <td>4.0</td>\n",
       "      <td>5.0</td>\n",
       "      <td>4.0</td>\n",
       "      <td>7</td>\n",
       "    </tr>\n",
       "    <tr>\n",
       "      <th>4</th>\n",
       "      <td>1186</td>\n",
       "      <td>aldi</td>\n",
       "      <td>Assistant Manager</td>\n",
       "      <td>retail</td>\n",
       "      <td>Derby, England, England</td>\n",
       "      <td>4</td>\n",
       "      <td>3.0</td>\n",
       "      <td>4.0</td>\n",
       "      <td>5.0</td>\n",
       "      <td>5.0</td>\n",
       "      <td>4.0</td>\n",
       "      <td>268</td>\n",
       "    </tr>\n",
       "  </tbody>\n",
       "</table>\n",
       "</div>"
      ],
      "text/plain": [
       "   Unnamed: 0  name                         job_title  industry  \\\n",
       "0        1182  aldi   Customer Service Representative    retail   \n",
       "1        1183  aldi   Customer Service Representative  printing   \n",
       "2        1184  aldi                   Sales Assistant    retail   \n",
       "3        1185  aldi                   Sales Assistant  printing   \n",
       "4        1186  aldi                 Assistant Manager    retail   \n",
       "\n",
       "                    location  overall_rating  work_life_balance  \\\n",
       "0  Bristol, England, England               3                1.0   \n",
       "1  Bristol, England, England               3                1.0   \n",
       "2     York, England, England               4                5.0   \n",
       "3     York, England, England               4                5.0   \n",
       "4    Derby, England, England               4                3.0   \n",
       "\n",
       "   culture_values  diversity_inclusion  career_opp  comp_benefits  \\\n",
       "0             2.0                  2.0         2.0            1.0   \n",
       "1             2.0                  2.0         2.0            1.0   \n",
       "2             4.0                  4.0         5.0            4.0   \n",
       "3             4.0                  4.0         5.0            4.0   \n",
       "4             4.0                  5.0         5.0            4.0   \n",
       "\n",
       "   total employee estimate  \n",
       "0                      268  \n",
       "1                        7  \n",
       "2                      268  \n",
       "3                        7  \n",
       "4                      268  "
      ]
     },
     "execution_count": 26,
     "metadata": {},
     "output_type": "execute_result"
    }
   ],
   "source": [
    "data = Path('../Resources/data/data_small.csv')\n",
    "raw_df = pd.read_csv(data)\n",
    "raw_df.head()"
   ]
  },
  {
   "cell_type": "markdown",
   "id": "94818569",
   "metadata": {},
   "source": [
    "# Preprocessing stage\n",
    "## prepare the X and y variables by dropping the appropriate columns from the raw dataframe"
   ]
  },
  {
   "cell_type": "code",
   "execution_count": 20,
   "id": "07681060",
   "metadata": {},
   "outputs": [],
   "source": [
    "y = raw_df['overall_rating']\n",
    "X = raw_df.drop('overall_rating', axis=1)\n",
    "X = pd.get_dummies(X)"
   ]
  },
  {
   "cell_type": "markdown",
   "id": "52b8e260",
   "metadata": {},
   "source": [
    "# train_test_split"
   ]
  },
  {
   "cell_type": "code",
   "execution_count": 27,
   "id": "0802ed9c",
   "metadata": {},
   "outputs": [
    {
     "data": {
      "text/plain": [
       "(750, 562)"
      ]
     },
     "execution_count": 27,
     "metadata": {},
     "output_type": "execute_result"
    }
   ],
   "source": [
    "X_train, X_test, y_train, y_test = train_test_split(X, y,  random_state=1, stratify=y)\n",
    "X_train.shape"
   ]
  },
  {
   "cell_type": "markdown",
   "id": "c7a732f5",
   "metadata": {},
   "source": [
    "# SVM Model"
   ]
  },
  {
   "cell_type": "code",
   "execution_count": 28,
   "id": "9e30537f",
   "metadata": {},
   "outputs": [],
   "source": [
    "model = SVC(kernel='linear')"
   ]
  },
  {
   "cell_type": "markdown",
   "id": "d66fbaa0",
   "metadata": {},
   "source": [
    "# Train the model"
   ]
  },
  {
   "cell_type": "code",
   "execution_count": 29,
   "id": "7c944fca",
   "metadata": {},
   "outputs": [
    {
     "data": {
      "text/plain": [
       "SVC(kernel='linear')"
      ]
     },
     "execution_count": 29,
     "metadata": {},
     "output_type": "execute_result"
    }
   ],
   "source": [
    "model.fit(X_train, y_train)"
   ]
  },
  {
   "cell_type": "markdown",
   "id": "e6b7ad3f",
   "metadata": {},
   "source": [
    "# Create predictions with the model"
   ]
  },
  {
   "cell_type": "code",
   "execution_count": 31,
   "id": "69e8a2ae",
   "metadata": {},
   "outputs": [
    {
     "data": {
      "text/html": [
       "<div>\n",
       "<style scoped>\n",
       "    .dataframe tbody tr th:only-of-type {\n",
       "        vertical-align: middle;\n",
       "    }\n",
       "\n",
       "    .dataframe tbody tr th {\n",
       "        vertical-align: top;\n",
       "    }\n",
       "\n",
       "    .dataframe thead th {\n",
       "        text-align: right;\n",
       "    }\n",
       "</style>\n",
       "<table border=\"1\" class=\"dataframe\">\n",
       "  <thead>\n",
       "    <tr style=\"text-align: right;\">\n",
       "      <th></th>\n",
       "      <th>Prediction</th>\n",
       "      <th>Actual</th>\n",
       "    </tr>\n",
       "  </thead>\n",
       "  <tbody>\n",
       "    <tr>\n",
       "      <th>0</th>\n",
       "      <td>3</td>\n",
       "      <td>4</td>\n",
       "    </tr>\n",
       "    <tr>\n",
       "      <th>1</th>\n",
       "      <td>3</td>\n",
       "      <td>1</td>\n",
       "    </tr>\n",
       "    <tr>\n",
       "      <th>2</th>\n",
       "      <td>3</td>\n",
       "      <td>3</td>\n",
       "    </tr>\n",
       "    <tr>\n",
       "      <th>3</th>\n",
       "      <td>4</td>\n",
       "      <td>4</td>\n",
       "    </tr>\n",
       "    <tr>\n",
       "      <th>4</th>\n",
       "      <td>5</td>\n",
       "      <td>5</td>\n",
       "    </tr>\n",
       "  </tbody>\n",
       "</table>\n",
       "</div>"
      ],
      "text/plain": [
       "   Prediction  Actual\n",
       "0           3       4\n",
       "1           3       1\n",
       "2           3       3\n",
       "3           4       4\n",
       "4           5       5"
      ]
     },
     "execution_count": 31,
     "metadata": {},
     "output_type": "execute_result"
    }
   ],
   "source": [
    "y_pred = model.predict(X_test)\n",
    "\n",
    "results = pd.DataFrame({\n",
    "   \"Prediction\": y_pred,\n",
    "   \"Actual\": y_test\n",
    "}).reset_index(drop=True)\n",
    "\n",
    "results.head()"
   ]
  },
  {
   "cell_type": "code",
   "execution_count": 32,
   "id": "45dc3c2f",
   "metadata": {},
   "outputs": [
    {
     "data": {
      "text/plain": [
       "0.6"
      ]
     },
     "execution_count": 32,
     "metadata": {},
     "output_type": "execute_result"
    }
   ],
   "source": [
    "accuracy_score(y_test, y_pred)"
   ]
  },
  {
   "cell_type": "code",
   "execution_count": 35,
   "id": "64baf97e",
   "metadata": {},
   "outputs": [
    {
     "data": {
      "text/plain": [
       "array([[24,  3,  5,  0,  0],\n",
       "       [ 6,  2, 13,  1,  0],\n",
       "       [ 1,  5, 33, 18,  2],\n",
       "       [ 1,  1, 11, 42, 13],\n",
       "       [ 0,  0,  4, 16, 49]], dtype=int64)"
      ]
     },
     "execution_count": 35,
     "metadata": {},
     "output_type": "execute_result"
    }
   ],
   "source": [
    "confusion_matrix(y_test, y_pred)"
   ]
  },
  {
   "cell_type": "code",
   "execution_count": 36,
   "id": "f722c7d4",
   "metadata": {},
   "outputs": [
    {
     "name": "stdout",
     "output_type": "stream",
     "text": [
      "              precision    recall  f1-score   support\n",
      "\n",
      "           1       0.75      0.75      0.75        32\n",
      "           2       0.18      0.09      0.12        22\n",
      "           3       0.50      0.56      0.53        59\n",
      "           4       0.55      0.62      0.58        68\n",
      "           5       0.77      0.71      0.74        69\n",
      "\n",
      "    accuracy                           0.60       250\n",
      "   macro avg       0.55      0.55      0.54       250\n",
      "weighted avg       0.59      0.60      0.59       250\n",
      "\n"
     ]
    }
   ],
   "source": [
    "print(classification_report(y_test, y_pred))"
   ]
  },
  {
   "cell_type": "code",
   "execution_count": null,
   "id": "5e09d171",
   "metadata": {},
   "outputs": [],
   "source": []
  }
 ],
 "metadata": {
  "kernelspec": {
   "display_name": "mlenv",
   "language": "python",
   "name": "mlenv"
  },
  "language_info": {
   "codemirror_mode": {
    "name": "ipython",
    "version": 3
   },
   "file_extension": ".py",
   "mimetype": "text/x-python",
   "name": "python",
   "nbconvert_exporter": "python",
   "pygments_lexer": "ipython3",
   "version": "3.7.15"
  }
 },
 "nbformat": 4,
 "nbformat_minor": 5
}
